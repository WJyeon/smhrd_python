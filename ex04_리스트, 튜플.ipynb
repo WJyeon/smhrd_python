{
 "cells": [
  {
   "cell_type": "markdown",
   "id": "0566c9b7",
   "metadata": {},
   "source": [
    "### 1)리스트\n",
    " - 파이썬의 자료구조 형태 중 하나로, 많은 양의 데이터를 하나로 묶어서 관리할 때 사용함\n",
    " - 하나의 리스트 안에 다양한 자료형을 담을 수 있다(문자열, 정수형 등 데이터를 한 공간에 넣기 가능)\n",
    " - 대괄호[]를 사용해서 생성하고, 리스트 내부의 값은 콤마(,)로 구분\n",
    " - 순서가 있는 객체들의 집합(인덱스 번호를 가진다 - 인덱싱, 슬라이싱 가능) - 0부터 시작\n",
    " - 추가, 수정, 삭제가 가능하다\n",
    " - 리스트명 = [요소1, 요소2, 요소3 ...]\n"
   ]
  },
  {
   "cell_type": "code",
   "execution_count": 2,
   "id": "fb888711",
   "metadata": {},
   "outputs": [],
   "source": [
    "#리스트 생성하기\n",
    "list0 = [] # 빈 리스트 생성\n",
    "list1 = [3,4,5,7] # 숫자형만 담기\n",
    "list2 = ['my', 'name','is'] # 문자열만 담기\n",
    "list3 = [3,4,'my','name'] # 숫자형, 문자열 같이담기 -> 서로 다른 자료형도 넣어줄 수 있다\n",
    "list4 = [2,[2,3]] # 리스트안에 리스트넣기"
   ]
  },
  {
   "cell_type": "code",
   "execution_count": 3,
   "id": "e14b8292",
   "metadata": {},
   "outputs": [
    {
     "data": {
      "text/plain": [
       "[2, [2, 3]]"
      ]
     },
     "execution_count": 3,
     "metadata": {},
     "output_type": "execute_result"
    }
   ],
   "source": [
    "list4"
   ]
  },
  {
   "cell_type": "code",
   "execution_count": 4,
   "id": "511a8b6b",
   "metadata": {},
   "outputs": [
    {
     "data": {
      "text/plain": [
       "list"
      ]
     },
     "execution_count": 4,
     "metadata": {},
     "output_type": "execute_result"
    }
   ],
   "source": [
    "type(list4)"
   ]
  },
  {
   "cell_type": "markdown",
   "id": "9bc4e640",
   "metadata": {},
   "source": [
    "### 리스트 인덱싱, 슬라이싱\n",
    " - 인덱싱 : 무엇인가를 '가리킨다'는 의미\n",
    "     - 리스트명[인덱스번호]\n",
    " - 슬라이싱 : 무엇인가를 '잘라낸다'는 의미\n",
    "     - 리스트명[시작인덱스번호 : 끝인덱스번호 + 1]"
   ]
  },
  {
   "cell_type": "code",
   "execution_count": 11,
   "id": "e6b2d02c",
   "metadata": {},
   "outputs": [
    {
     "name": "stdout",
     "output_type": "stream",
     "text": [
      "20\n",
      "90\n",
      "[10, 20, 30, 40, 50]\n",
      "[50, 60, 70, 80, 90]\n"
     ]
    }
   ],
   "source": [
    "list5 = [10, 20, 30, 40, 50, 60, 70, 80, 90]\n",
    "\n",
    "# 숫자 20 가져오기\n",
    "print(list5[1])\n",
    "\n",
    "# 숫자 90 가져오기\n",
    "print(list5[-1])\n",
    "\n",
    "# 숫자 10부터 50까지 가져오기\n",
    "print(list5[:5])\n",
    "\n",
    "# 숫자 50부터 90까지 가져오기\n",
    "print(list5[-5:])"
   ]
  },
  {
   "cell_type": "code",
   "execution_count": 12,
   "id": "eb0ad352",
   "metadata": {},
   "outputs": [
    {
     "data": {
      "text/plain": [
       "['국밥', '삼겹살', '떡볶이', '광어회', ['불', '고', '기', '와', '퍼']]"
      ]
     },
     "execution_count": 12,
     "metadata": {},
     "output_type": "execute_result"
    }
   ],
   "source": [
    "food_list = ['국밥', '삼겹살','떡볶이','광어회',['불','고','기','와','퍼']]\n",
    "food_list"
   ]
  },
  {
   "cell_type": "code",
   "execution_count": 13,
   "id": "316c96e5",
   "metadata": {},
   "outputs": [
    {
     "data": {
      "text/plain": [
       "'삼겹살'"
      ]
     },
     "execution_count": 13,
     "metadata": {},
     "output_type": "execute_result"
    }
   ],
   "source": [
    "# 삼겹살 가져오기\n",
    "food_list[1]"
   ]
  },
  {
   "cell_type": "code",
   "execution_count": 16,
   "id": "82126181",
   "metadata": {},
   "outputs": [
    {
     "name": "stdout",
     "output_type": "stream",
     "text": [
      "['불', '고', '기', '와', '퍼']\n",
      "['불', '고', '기', '와', '퍼']\n"
     ]
    }
   ],
   "source": [
    "# ['불','고','기','와','퍼'] 가져오기\n",
    "print(food_list[4])\n",
    "print(food_list[-1])"
   ]
  },
  {
   "cell_type": "code",
   "execution_count": 21,
   "id": "ec6b107b",
   "metadata": {},
   "outputs": [
    {
     "name": "stdout",
     "output_type": "stream",
     "text": [
      "와\n",
      "와\n"
     ]
    },
    {
     "data": {
      "text/plain": [
       "'와'"
      ]
     },
     "execution_count": 21,
     "metadata": {},
     "output_type": "execute_result"
    }
   ],
   "source": [
    "# '와' 가져오기\n",
    "temp = food_list[4]\n",
    "print(temp[-2])\n",
    "print(temp[3])\n",
    "food_list[4][3] #food_list 4번의 3번에게 접근하겠다"
   ]
  },
  {
   "cell_type": "code",
   "execution_count": 24,
   "id": "8e39bc35",
   "metadata": {},
   "outputs": [
    {
     "name": "stdout",
     "output_type": "stream",
     "text": [
      "5\n",
      "5\n"
     ]
    }
   ],
   "source": [
    "num_list = [0,1,2,3,4,[2,5,6,8]]\n",
    "# 숫자 5 가져오기\n",
    "print(num_list[-1][1])\n",
    "temp = num_list[-1]\n",
    "print(temp[1])"
   ]
  },
  {
   "cell_type": "code",
   "execution_count": 26,
   "id": "d7cd9138",
   "metadata": {},
   "outputs": [
    {
     "data": {
      "text/plain": [
       "[1, 2, 3, 1, 2, 3, 1, 2, 3]"
      ]
     },
     "execution_count": 26,
     "metadata": {},
     "output_type": "execute_result"
    }
   ],
   "source": [
    "# 리스트 연산\n",
    "list6 = [1,2,3]\n",
    "list6 + list6 # 문자열 + 문자열 처럼 리스트도 뒤에 붙는다.-> 빼기 연산 불가능. *도 마찬가지로 뒤에 붙음.\n",
    "# 문자열 타입처럼 뒤에 이어서 붙는다\n",
    "list6*3"
   ]
  },
  {
   "cell_type": "code",
   "execution_count": 27,
   "id": "782c4fe5",
   "metadata": {},
   "outputs": [
    {
     "data": {
      "text/plain": [
       "'안녕안녕안녕안녕안녕안녕안녕안녕안녕안녕'"
      ]
     },
     "execution_count": 27,
     "metadata": {},
     "output_type": "execute_result"
    }
   ],
   "source": [
    "s1 = '안녕'\n",
    "s2 = '하세요'\n",
    "s1 + s2\n",
    "s1 * 10"
   ]
  },
  {
   "cell_type": "markdown",
   "id": "f803d2ba",
   "metadata": {},
   "source": [
    "### 리스트 함수\n",
    "1. 리스트 값 추가(append)\n",
    " - 가장 뒤에 값이 하나씩 차곡차곡 추가된다!"
   ]
  },
  {
   "cell_type": "code",
   "execution_count": 28,
   "id": "700ca48a",
   "metadata": {},
   "outputs": [
    {
     "data": {
      "text/plain": [
       "[0, 1, 2, 3, 4]"
      ]
     },
     "execution_count": 28,
     "metadata": {},
     "output_type": "execute_result"
    }
   ],
   "source": [
    "list7 = [0,1,2,3,4]\n",
    "list7"
   ]
  },
  {
   "cell_type": "code",
   "execution_count": 35,
   "id": "73f61eee",
   "metadata": {},
   "outputs": [
    {
     "data": {
      "text/plain": [
       "[0, 1, 2, 3, 4, 5, 5, 5, 5, 5, 5, 5]"
      ]
     },
     "execution_count": 35,
     "metadata": {},
     "output_type": "execute_result"
    }
   ],
   "source": [
    "# 리스트의 제일 뒤에 숫자 5를 추가 -> append함수 사용\n",
    "# 리스트명.append(값)\n",
    "list7.append(5)\n",
    "list7"
   ]
  },
  {
   "cell_type": "markdown",
   "id": "0322dfce",
   "metadata": {},
   "source": [
    "2. 원하는 인덱스 위치에 값을 추가(insert)"
   ]
  },
  {
   "cell_type": "code",
   "execution_count": 37,
   "id": "21c9ce8e",
   "metadata": {},
   "outputs": [
    {
     "data": {
      "text/plain": [
       "[0, 1, 2, 9, 9, 3, 4, 5, 5, 5, 5, 5, 5, 5]"
      ]
     },
     "execution_count": 37,
     "metadata": {},
     "output_type": "execute_result"
    }
   ],
   "source": [
    "# 리스트명.insert(인덱스번호, 값)\n",
    "list7\n",
    "\n",
    "# 3번 인덱스에 9라는 값 추가\n",
    "list7.insert(3,9)\n",
    "\n",
    "list7"
   ]
  },
  {
   "cell_type": "code",
   "execution_count": 11,
   "id": "7dd55f40",
   "metadata": {},
   "outputs": [
    {
     "name": "stdout",
     "output_type": "stream",
     "text": [
      "['사과', '멜론', '오렌지']\n"
     ]
    }
   ],
   "source": [
    "fruits = ['사과','포도',['수박','멜론'], '오렌지']\n",
    "apple = fruits[0]\n",
    "melon = fruits[2][1]\n",
    "orange = fruits[3]\n",
    "\n",
    "choice_list = []\n",
    "choice_list.append(apple)\n",
    "choice_list.append(melon)\n",
    "choice_list.append(orange)\n",
    "print(choice_list)"
   ]
  },
  {
   "cell_type": "markdown",
   "id": "28a8fc66",
   "metadata": {},
   "source": [
    "3. 끝에 여러개 값 추가(extend)"
   ]
  },
  {
   "cell_type": "code",
   "execution_count": 46,
   "id": "83f4bf39",
   "metadata": {},
   "outputs": [
    {
     "data": {
      "text/plain": [
       "['사과', '멜론', '오렌지']"
      ]
     },
     "execution_count": 46,
     "metadata": {},
     "output_type": "execute_result"
    }
   ],
   "source": [
    "# 리스트명.extend([값,값])\n",
    "choice_list = []\n",
    "choice_list.extend([apple,melon,orange])\n",
    "choice_list"
   ]
  },
  {
   "cell_type": "markdown",
   "id": "d5cce3e5",
   "metadata": {},
   "source": [
    "4. 리스트 값 수정\n",
    "- 리스트명[인덱스번호], = 값 #새로운 값 대입"
   ]
  },
  {
   "cell_type": "code",
   "execution_count": 13,
   "id": "5f028544",
   "metadata": {},
   "outputs": [
    {
     "data": {
      "text/plain": [
       "['사과', '멜론', '귤']"
      ]
     },
     "execution_count": 13,
     "metadata": {},
     "output_type": "execute_result"
    }
   ],
   "source": [
    "choice_list\n",
    "#orange대신 귤 넣기\n",
    "choice_list[2] = '귤'\n",
    "choice_list"
   ]
  },
  {
   "cell_type": "code",
   "execution_count": 15,
   "id": "30e37e40",
   "metadata": {},
   "outputs": [],
   "source": [
    "choice_list.append(orange)"
   ]
  },
  {
   "cell_type": "code",
   "execution_count": 16,
   "id": "101d8d16",
   "metadata": {},
   "outputs": [
    {
     "data": {
      "text/plain": [
       "['사과', '멜론', '귤', '오렌지']"
      ]
     },
     "execution_count": 16,
     "metadata": {},
     "output_type": "execute_result"
    }
   ],
   "source": [
    "choice_list"
   ]
  },
  {
   "cell_type": "code",
   "execution_count": 21,
   "id": "f65ac022",
   "metadata": {},
   "outputs": [],
   "source": [
    "# 멜론, 귤 -> 3, 4로 값 수정\n",
    "choice_list[1:3] = [3,4]"
   ]
  },
  {
   "cell_type": "code",
   "execution_count": 22,
   "id": "8e2a0b3a",
   "metadata": {},
   "outputs": [
    {
     "data": {
      "text/plain": [
       "['사과', 3, 4]"
      ]
     },
     "execution_count": 22,
     "metadata": {},
     "output_type": "execute_result"
    }
   ],
   "source": [
    "choice_list"
   ]
  },
  {
   "cell_type": "code",
   "execution_count": 21,
   "id": "aa82a427",
   "metadata": {},
   "outputs": [],
   "source": [
    "# 멜론, 귤 -> 1:3범위가 그냥 3으로 바뀜\n",
    "choice_list[1:3] = [3]"
   ]
  },
  {
   "cell_type": "markdown",
   "id": "f46fff52",
   "metadata": {},
   "source": [
    "5. 리스트 값 삭제\n",
    "- 인덱스번호 활용 : del 리스트명[인덱스번호]\n",
    "- 값 활용 : 리스트명.remove(값)"
   ]
  },
  {
   "cell_type": "code",
   "execution_count": 23,
   "id": "dd07e3c7",
   "metadata": {},
   "outputs": [
    {
     "data": {
      "text/plain": [
       "['a', 'b', 'c', 'd', 'e']"
      ]
     },
     "execution_count": 23,
     "metadata": {},
     "output_type": "execute_result"
    }
   ],
   "source": [
    "list0 = ['a','b','c','d','e']\n",
    "list0"
   ]
  },
  {
   "cell_type": "code",
   "execution_count": 24,
   "id": "1eb9b134",
   "metadata": {},
   "outputs": [
    {
     "data": {
      "text/plain": [
       "['a', 'b', 'd', 'e']"
      ]
     },
     "execution_count": 24,
     "metadata": {},
     "output_type": "execute_result"
    }
   ],
   "source": [
    "# del키워드 사용해서 'c'삭제\n",
    "del list0[2]\n",
    "list0"
   ]
  },
  {
   "cell_type": "code",
   "execution_count": 25,
   "id": "a3f8de65",
   "metadata": {},
   "outputs": [
    {
     "data": {
      "text/plain": [
       "['a', 'b', 'e']"
      ]
     },
     "execution_count": 25,
     "metadata": {},
     "output_type": "execute_result"
    }
   ],
   "source": [
    "# remove함수 활용해서 'd'삭제\n",
    "list0.remove('d')\n",
    "list0\n",
    "# del과 remove사용 시 지울 값이 없을 때 오류 내용에 차이가 있다.\n",
    "# del은 없는 인덱스를 사용하려 하면 인덱스에러가 발생\n",
    "# remove에서는 value에러가 발생"
   ]
  },
  {
   "cell_type": "markdown",
   "id": "e3e90d75",
   "metadata": {},
   "source": [
    "6. 리스트 정렬(sort)\n",
    "- 리스트명.sort()"
   ]
  },
  {
   "cell_type": "code",
   "execution_count": 28,
   "id": "9a2f7848",
   "metadata": {},
   "outputs": [
    {
     "data": {
      "text/plain": [
       "[2, 4, 30, 44, 51, 77, 100]"
      ]
     },
     "execution_count": 28,
     "metadata": {},
     "output_type": "execute_result"
    }
   ],
   "source": [
    "list1 = [4,2,30,77,100,51,44]\n",
    "list1.sort() # 오름차순으로 정렬\n",
    "list1"
   ]
  },
  {
   "cell_type": "code",
   "execution_count": 30,
   "id": "617e5160",
   "metadata": {},
   "outputs": [
    {
     "data": {
      "text/plain": [
       "[100, 77, 51, 44, 30, 4, 2]"
      ]
     },
     "execution_count": 30,
     "metadata": {},
     "output_type": "execute_result"
    }
   ],
   "source": [
    "list1.sort(reverse = True) # 리버스 속성을 참으로 바꿔주면 내림차순 정렬\n",
    "list1"
   ]
  },
  {
   "cell_type": "markdown",
   "id": "0472bb9b",
   "metadata": {},
   "source": [
    "7. 리스트 순서 뒤집기(reverse) #함수\n",
    "- 리스트명.reverse()"
   ]
  },
  {
   "cell_type": "code",
   "execution_count": 32,
   "id": "4345273a",
   "metadata": {},
   "outputs": [
    {
     "data": {
      "text/plain": [
       "[44, 51, 100, 77, 30, 2, 4]"
      ]
     },
     "execution_count": 32,
     "metadata": {},
     "output_type": "execute_result"
    }
   ],
   "source": [
    "list2 = [4,2,30,77,100,51,44]\n",
    "list2.reverse() # 순서 자체를 뒤집음\n",
    "list2"
   ]
  },
  {
   "cell_type": "code",
   "execution_count": 35,
   "id": "f402d575",
   "metadata": {},
   "outputs": [
    {
     "data": {
      "text/plain": [
       "[100, 77, 51, 44, 30, 4, 2]"
      ]
     },
     "execution_count": 35,
     "metadata": {},
     "output_type": "execute_result"
    }
   ],
   "source": [
    "list2.sort() #오름차순 정렬\n",
    "list2.reverse() # 정렬 후 뒤집었기 때문에 내림차순 정렬\n",
    "list2"
   ]
  },
  {
   "cell_type": "markdown",
   "id": "976452a8",
   "metadata": {},
   "source": [
    "8. 리스트 값 위치 반환하기\n",
    "- 인덱스 번호 궁금할 때 사용\n",
    "- 리스트명.index(값)"
   ]
  },
  {
   "cell_type": "code",
   "execution_count": 38,
   "id": "f287b4fc",
   "metadata": {},
   "outputs": [
    {
     "name": "stdout",
     "output_type": "stream",
     "text": [
      "1\n",
      "0\n"
     ]
    }
   ],
   "source": [
    "list3 = ['a',1,'b','c']\n",
    "print(list3.index(1))\n",
    "print(list3.index('a'))"
   ]
  },
  {
   "cell_type": "markdown",
   "id": "e28590fe",
   "metadata": {},
   "source": [
    "9. 리스트 길이(값의 개수 확인)\n",
    "- len(리스트명)"
   ]
  },
  {
   "cell_type": "code",
   "execution_count": 41,
   "id": "04268d85",
   "metadata": {},
   "outputs": [
    {
     "data": {
      "text/plain": [
       "4"
      ]
     },
     "execution_count": 41,
     "metadata": {},
     "output_type": "execute_result"
    }
   ],
   "source": [
    "len(list3)\n",
    "#마지막인덱스번호는 3 (길이-1)"
   ]
  },
  {
   "cell_type": "markdown",
   "id": "6c8023be",
   "metadata": {},
   "source": [
    "### 2) 튜플\n",
    "- 파이썬의 자료구조 형태 중 하나로, 많은 양의 데이터를 하나로 묶어서 관리할 때 사용함\n",
    "- 하나의 튜플 안에 다양한 자료형을 담을 수 있다(문자열, 정수형 등 데이터를 한 공간에 넣기 가능)\n",
    "- 소괄호()를 사용해서 생성하고, 리스트 내부의 값은 콤마(,)로 구분\n",
    "- 순서가 있는 객체들의 집합(인덱스 번호를 가진다 - 인덱싱, 슬라이싱 가능) - 0부터 시작\n",
    "- 추가, 수정, 삭제가 불가능하다\n",
    "- 튜플명 = (요소1, 요소2, 요소3 ...)"
   ]
  },
  {
   "cell_type": "code",
   "execution_count": 44,
   "id": "ec392952",
   "metadata": {},
   "outputs": [],
   "source": [
    "# 튜플 선언하기\n",
    "tu0 = () # 빈 튜플 생성\n",
    "tu1 = (1,2,3) # 정수형 데이터 튜플에 담기\n",
    "tu2 = (1,2,'my','name')\n",
    "tu3 = (1,2,(2,3),4)\n",
    "tu4 = (1,2,[2,3,4])"
   ]
  },
  {
   "cell_type": "code",
   "execution_count": 48,
   "id": "ee6f7592",
   "metadata": {},
   "outputs": [
    {
     "data": {
      "text/plain": [
       "tuple"
      ]
     },
     "execution_count": 48,
     "metadata": {},
     "output_type": "execute_result"
    }
   ],
   "source": [
    "type(tu4)"
   ]
  },
  {
   "cell_type": "code",
   "execution_count": 49,
   "id": "0923f54e",
   "metadata": {},
   "outputs": [],
   "source": [
    "tu5 = (1,2,'a',(1,2),['파이썬',4])"
   ]
  },
  {
   "cell_type": "code",
   "execution_count": 51,
   "id": "4c96f486",
   "metadata": {},
   "outputs": [
    {
     "data": {
      "text/plain": [
       "'a'"
      ]
     },
     "execution_count": 51,
     "metadata": {},
     "output_type": "execute_result"
    }
   ],
   "source": [
    "# 'a'값 가져오기\n",
    "# 인덱싱\n",
    "# 튜플명[인덱스번호]\n",
    "tu5[2]"
   ]
  },
  {
   "cell_type": "code",
   "execution_count": 53,
   "id": "905b5601",
   "metadata": {},
   "outputs": [
    {
     "data": {
      "text/plain": [
       "(2, 'a', (1, 2))"
      ]
     },
     "execution_count": 53,
     "metadata": {},
     "output_type": "execute_result"
    }
   ],
   "source": [
    "# 2 ~ (1,2)\n",
    "# 슬라이싱\n",
    "# 튜플명[시작 인덱스번호 : 끝 인덱스번호 + 1]\n",
    "tu5[1:4]"
   ]
  },
  {
   "cell_type": "code",
   "execution_count": 54,
   "id": "7c378def",
   "metadata": {},
   "outputs": [
    {
     "ename": "AttributeError",
     "evalue": "'tuple' object has no attribute 'append'",
     "output_type": "error",
     "traceback": [
      "\u001b[1;31m---------------------------------------------------------------------------\u001b[0m",
      "\u001b[1;31mAttributeError\u001b[0m                            Traceback (most recent call last)",
      "Cell \u001b[1;32mIn[54], line 2\u001b[0m\n\u001b[0;32m      1\u001b[0m \u001b[38;5;66;03m# 튜플에 맨 뒤에 값 5추가하기\u001b[39;00m\n\u001b[1;32m----> 2\u001b[0m tu5\u001b[38;5;241m.\u001b[39mappend(\u001b[38;5;241m5\u001b[39m)\n",
      "\u001b[1;31mAttributeError\u001b[0m: 'tuple' object has no attribute 'append'"
     ]
    }
   ],
   "source": [
    "# 튜플에 맨 뒤에 값 5추가하기 -> 불가능\n",
    "tu5.append(5)"
   ]
  },
  {
   "cell_type": "code",
   "execution_count": 55,
   "id": "5d1ea574",
   "metadata": {},
   "outputs": [
    {
     "ename": "TypeError",
     "evalue": "'tuple' object does not support item assignment",
     "output_type": "error",
     "traceback": [
      "\u001b[1;31m---------------------------------------------------------------------------\u001b[0m",
      "\u001b[1;31mTypeError\u001b[0m                                 Traceback (most recent call last)",
      "Cell \u001b[1;32mIn[55], line 1\u001b[0m\n\u001b[1;32m----> 1\u001b[0m tu5[\u001b[38;5;241m2\u001b[39m] \u001b[38;5;241m=\u001b[39m [\u001b[38;5;241m3\u001b[39m]\n",
      "\u001b[1;31mTypeError\u001b[0m: 'tuple' object does not support item assignment"
     ]
    }
   ],
   "source": [
    "# 'a' -> 숫자 3으로 수정 -> 불가능\n",
    "tu5[2] = [3]"
   ]
  },
  {
   "cell_type": "code",
   "execution_count": 57,
   "id": "e4d5be1c",
   "metadata": {},
   "outputs": [
    {
     "ename": "TypeError",
     "evalue": "'tuple' object doesn't support item deletion",
     "output_type": "error",
     "traceback": [
      "\u001b[1;31m---------------------------------------------------------------------------\u001b[0m",
      "\u001b[1;31mTypeError\u001b[0m                                 Traceback (most recent call last)",
      "Cell \u001b[1;32mIn[57], line 2\u001b[0m\n\u001b[0;32m      1\u001b[0m \u001b[38;5;66;03m# 튜플 값 삭제 -> 불가능\u001b[39;00m\n\u001b[1;32m----> 2\u001b[0m \u001b[38;5;28;01mdel\u001b[39;00m tu5[\u001b[38;5;241m0\u001b[39m]\n",
      "\u001b[1;31mTypeError\u001b[0m: 'tuple' object doesn't support item deletion"
     ]
    }
   ],
   "source": [
    "# 튜플 값 삭제 -> 불가능\n",
    "del tu5[0]"
   ]
  },
  {
   "cell_type": "markdown",
   "id": "8cdf7551",
   "metadata": {},
   "source": [
    "### 리스트와 튜플의 공통점과 차이점\n",
    "- 공통점\n",
    "    - 타입과 상관 없이 하나의 자료형에서 일련의 요소를 가질 수 있음\n",
    "    - 요소의 순서를 관리할 수 있다(인덱싱과 슬라이싱 가능)\n",
    "- 차이점\n",
    "    - 리스트는 [], 튜플 ()\n",
    "    - 리스트는 가변적(mutable), 튜플은 불변적(immutable)\n",
    "    - 리스트는 요소가 몇 개 들어갈 지 명확하지 않을 때 사용\n",
    "    - 튜플은 요소 개수를 사전에 정확하게 알고 있을 때, 값의 개수, 데이터 자체가 변하면 안될 때 사용"
   ]
  },
  {
   "cell_type": "code",
   "execution_count": 58,
   "id": "68c7939e",
   "metadata": {},
   "outputs": [
    {
     "data": {
      "text/plain": [
       "5"
      ]
     },
     "execution_count": 58,
     "metadata": {},
     "output_type": "execute_result"
    }
   ],
   "source": [
    "# 튜플이 사용 가능한 함수\n",
    "len(tu5)"
   ]
  },
  {
   "cell_type": "code",
   "execution_count": null,
   "id": "b7f095aa",
   "metadata": {},
   "outputs": [],
   "source": []
  },
  {
   "cell_type": "code",
   "execution_count": null,
   "id": "fe61b27b",
   "metadata": {},
   "outputs": [],
   "source": []
  },
  {
   "cell_type": "code",
   "execution_count": null,
   "id": "3296df54",
   "metadata": {},
   "outputs": [],
   "source": []
  },
  {
   "cell_type": "code",
   "execution_count": null,
   "id": "2f66422e",
   "metadata": {},
   "outputs": [],
   "source": []
  }
 ],
 "metadata": {
  "kernelspec": {
   "display_name": "Python 3 (ipykernel)",
   "language": "python",
   "name": "python3"
  },
  "language_info": {
   "codemirror_mode": {
    "name": "ipython",
    "version": 3
   },
   "file_extension": ".py",
   "mimetype": "text/x-python",
   "name": "python",
   "nbconvert_exporter": "python",
   "pygments_lexer": "ipython3",
   "version": "3.11.9"
  }
 },
 "nbformat": 4,
 "nbformat_minor": 5
}
